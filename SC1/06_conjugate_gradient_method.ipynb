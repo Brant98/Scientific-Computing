{
 "cells": [
  {
   "cell_type": "markdown",
   "metadata": {},
   "source": [
    "<center>\n",
    "    <h1> ILI285 - Computación Científica I  / INF285 - Computación Científica </h1>\n",
    "    <h2> Conjugate Gradient Method </h2>\n",
    "    <h2> [[S]cientific [C]omputing [T]eam](#acknowledgements)</h2>\n",
    "    <h2> Version: 1.1</h2>\n",
    "</center>"
   ]
  },
  {
   "cell_type": "markdown",
   "metadata": {},
   "source": [
    "## Table of Contents\n",
    "* [Introduction](#intro)\n",
    "* [Gradient Descent](#GDragon)\n",
    "* [Conjugate Gradient Method](#CGM)\n",
    "* [Conjugate Gradient Method with Preconditioning](#CGMp)\n",
    "* [Let's Play: Practical Exercises and Profiling](#LP)\n",
    "* [Acknowledgements](#acknowledgements)"
   ]
  },
  {
   "cell_type": "code",
   "execution_count": 61,
   "metadata": {
    "collapsed": false
   },
   "outputs": [
    {
     "name": "stdout",
     "output_type": "stream",
     "text": [
      "The memory_profiler extension is already loaded. To reload it, use:\n",
      "  %reload_ext memory_profiler\n"
     ]
    }
   ],
   "source": [
    "import numpy as np\n",
    "import matplotlib.pyplot as plt\n",
    "from scipy.linalg import solve_triangular\n",
    "%matplotlib inline\n",
    "# pip install memory_profiler\n",
    "%load_ext memory_profiler"
   ]
  },
  {
   "cell_type": "markdown",
   "metadata": {},
   "source": [
    "<div id='intro' />\n",
    "## Introduction\n",
    "\n",
    "Welcome to another edition of our IPython Notebooks. Here, we'll teach you how to solve $A\\,x = b$ with $A$ being a _symmetric positive-definite matrix_, but the following methods have a key difference with the previous ones: these do not depend on a matrix factorization. The two methods that we'll see are called the Gradient Descent and the Conjugate Gradient Method. On the latter, we'll also see the benefits of preconditioning."
   ]
  },
  {
   "cell_type": "markdown",
   "metadata": {},
   "source": [
    "<div id='GDragon' />\n",
    "## Gradient Descent"
   ]
  },
  {
   "cell_type": "markdown",
   "metadata": {},
   "source": [
    "This is an iterative method. If you remember the iterative methods in the previous Notebook, to find the next approximate solution $\\vec{x}_{k+1}$ you'd add a vector to the current approximate solution, $\\vec{x}_k$, that is: $\\vec{x}_{k+1} = \\vec{x}_k + \\text{vector}$. In this method, $\\text{vector}$ is $\\alpha_{k}\\,\\vec{r}_k$, where $\\vec{r}_k$ is the residue ($\\vec{b} - A\\,\\vec{x}_k$) and $\\alpha_k = \\cfrac{(\\vec{r}_k)^T\\,\\vec{r}_k}{(\\vec{r}_k)^T\\,A\\,\\vec{r}_k}$, starting with some initial guess $\\vec{x}_0$. Let's look at the implementation below:"
   ]
  },
  {
   "cell_type": "code",
   "execution_count": 62,
   "metadata": {
    "collapsed": true
   },
   "outputs": [],
   "source": [
    "def gradient_descent(A, b, x0, n_iter=10):\n",
    "    n = A.shape[0]\n",
    "    #array with solutions\n",
    "    X = np.empty((n_iter, n))\n",
    "    X[0] = x0\n",
    "\n",
    "    for k in range(1, n_iter):\n",
    "        r = b - np.dot(A, X[k-1])\n",
    "        if (all( v == 0 for v in r)): # The algorithm converged\n",
    "            X[k:] = X[k-1]\n",
    "            return X\n",
    "            break\n",
    "        alpha = np.dot(np.transpose(r), r)/np.dot(np.transpose(r), np.dot(A, r))\n",
    "        X[k] = X[k-1] + alpha*r\n",
    "    \n",
    "    return X"
   ]
  },
  {
   "cell_type": "markdown",
   "metadata": {},
   "source": [
    "Now let's try our algorithm! But first, let's borrow a function to generate a random symmetric positive-definite matrix, kindly provided by the previous notebook, and another one to calculate the vectorized euclidean metric."
   ]
  },
  {
   "cell_type": "code",
   "execution_count": 63,
   "metadata": {
    "collapsed": true
   },
   "outputs": [],
   "source": [
    "\"\"\"\n",
    "Randomly generates an nxn symmetric positive-\n",
    "definite matrix A.\n",
    "\"\"\"\n",
    "def generate_spd_matrix(n):\n",
    "    A = np.random.random((n,n))\n",
    "    #constructing symmetry\n",
    "    A += A.T\n",
    "    #symmetric+diagonally dominant -> symmetric positive-definite\n",
    "    deltas = 0.1*np.random.random(n)\n",
    "    row_sum = A.sum(axis=1)-np.diag(A)\n",
    "    np.fill_diagonal(A, row_sum+deltas)\n",
    "    return A"
   ]
  },
  {
   "cell_type": "markdown",
   "metadata": {},
   "source": [
    "We'll try our algorithm with some matrices of different sizes, and we'll compare it with the solution given by Numpy's solver."
   ]
  },
  {
   "cell_type": "code",
   "execution_count": 64,
   "metadata": {
    "collapsed": false
   },
   "outputs": [
    {
     "name": "stdout",
     "output_type": "stream",
     "text": [
      "[-0.17820154  0.52106981  0.53382729]\n",
      "[-0.17836737  0.52135731  0.53409502]\n",
      "0.000426422448857\n"
     ]
    }
   ],
   "source": [
    "A3 = generate_spd_matrix(3)\n",
    "b3 = np.ones(3)\n",
    "x30 = np.zeros(3)\n",
    "\n",
    "X = gradient_descent(A3, b3, x30, 15)\n",
    "sol = np.linalg.solve(A3, b3)\n",
    "print (X[-1])\n",
    "print (sol)\n",
    "print (np.linalg.norm(X[-1] - sol)) # difference bewteen gradient_descent's solution and Numpy's solver's solution"
   ]
  },
  {
   "cell_type": "code",
   "execution_count": 65,
   "metadata": {
    "collapsed": false
   },
   "outputs": [
    {
     "name": "stdout",
     "output_type": "stream",
     "text": [
      "[ 0.0446622   0.0754582   0.05714179  0.05645706  0.06937592  0.05045132\n",
      "  0.05294166  0.06005202  0.05671544  0.04636633]\n",
      "[ 0.04466199  0.07545925  0.05714224  0.05645745  0.06937605  0.05045118\n",
      "  0.05294159  0.06005154  0.05671561  0.04636658]\n",
      "1.36672300759e-06\n"
     ]
    }
   ],
   "source": [
    "A10 = generate_spd_matrix(10)\n",
    "b10 = np.ones(10)\n",
    "x100 = np.zeros(10)\n",
    "\n",
    "X = gradient_descent(A10, b10, x100, 15)\n",
    "sol = np.linalg.solve(A10, b10)\n",
    "print (X[-1])\n",
    "print (sol)\n",
    "print (np.linalg.norm(X[-1] - sol)) # difference bewteen gradient_descent's solution and Numpy's solver's solution"
   ]
  },
  {
   "cell_type": "code",
   "execution_count": 66,
   "metadata": {
    "collapsed": false
   },
   "outputs": [
    {
     "name": "stdout",
     "output_type": "stream",
     "text": [
      "[ 0.00903531  0.00902351  0.00901697  0.00995673  0.01045713  0.01075561\n",
      "  0.00992705  0.01101404  0.00978422  0.00888462  0.01146559  0.00841561\n",
      "  0.01409151  0.01095426  0.00897269  0.01073809  0.01113314  0.00948095\n",
      "  0.01064304  0.01142139  0.01027172  0.01206779  0.00874802  0.0093409\n",
      "  0.01013143  0.01134398  0.01099172  0.0105418   0.01050023  0.00991486\n",
      "  0.0103632   0.01029715  0.00875615  0.01188232  0.00861486  0.01136636\n",
      "  0.01071254  0.00979824  0.01060024  0.00978044  0.01072061  0.01243879\n",
      "  0.01369218  0.01153421  0.01071187  0.01049353  0.00906187  0.00858981\n",
      "  0.00979479  0.01006239]\n",
      "[ 0.00903531  0.00902351  0.00901697  0.00995674  0.01045713  0.01075561\n",
      "  0.00992705  0.01101403  0.00978422  0.00888462  0.01146559  0.00841561\n",
      "  0.01409153  0.01095426  0.00897269  0.01073809  0.01113314  0.00948095\n",
      "  0.01064304  0.01142139  0.01027172  0.01206779  0.00874802  0.0093409\n",
      "  0.01013143  0.01134399  0.01099171  0.0105418   0.01050023  0.00991486\n",
      "  0.0103632   0.01029716  0.00875615  0.01188232  0.00861486  0.01136637\n",
      "  0.01071254  0.00979824  0.01060025  0.00978044  0.01072061  0.0124388\n",
      "  0.01369219  0.01153421  0.01071187  0.01049353  0.00906188  0.00858981\n",
      "  0.00979479  0.01006239]\n",
      "2.84150503747e-08\n"
     ]
    }
   ],
   "source": [
    "A50 = generate_spd_matrix(50)\n",
    "b50 = np.ones(50)\n",
    "x500 = np.zeros(50)\n",
    "\n",
    "X = gradient_descent(A50, b50, x500, 15)\n",
    "sol = np.linalg.solve(A50, b50)\n",
    "print (X[-1])\n",
    "print (sol)\n",
    "print (np.linalg.norm(X[-1] - sol)) # difference bewteen gradient_descent's solution and Numpy's solver's solution"
   ]
  },
  {
   "cell_type": "markdown",
   "metadata": {},
   "source": [
    "As we can see, we're getting good solutions with 15 iterations, even for matrices on the bigger side. However, this method is not used too often; rather, its younger sibling, the Conjugate Gradient Method, is the more preferred choice."
   ]
  },
  {
   "cell_type": "markdown",
   "metadata": {},
   "source": [
    "<div id='CGM' />\n",
    "## Conjugate Gradient Method"
   ]
  },
  {
   "cell_type": "markdown",
   "metadata": {},
   "source": [
    "This method works by succesively eliminating the $n$ orthogonal components of the error, one by one. The method arrives at the solution with the following finite loop:"
   ]
  },
  {
   "cell_type": "code",
   "execution_count": 67,
   "metadata": {
    "collapsed": true
   },
   "outputs": [],
   "source": [
    "def conjugate_gradient(A, b, x0):\n",
    "    n = A.shape[0]\n",
    "    X = np.empty((n, n))\n",
    "    d = b - np.dot(A, x0)\n",
    "    R = np.empty((n, n))\n",
    "    X[0] = x0\n",
    "    R[0] = b - np.dot(A, x0)\n",
    "\n",
    "    for k in range(1, n):\n",
    "        if (all( v == 0 for v in R[k-1])): # The algorithm converged\n",
    "            X[k:] = X[k-1]\n",
    "            return X\n",
    "            break\n",
    "        alpha = np.dot(np.transpose(R[k-1]), R[k-1]) / np.dot(np.transpose(d), np.dot(A, d))\n",
    "        X[k] = X[k-1] + alpha*d\n",
    "        R[k] = R[k-1] - alpha*np.dot(A, d)\n",
    "        beta = np.dot(np.transpose(R[k]), R[k])/np.dot(np.transpose(R[k-1]), R[k-1])\n",
    "        d = R[k] + beta*d\n",
    "\n",
    "    return X"
   ]
  },
  {
   "cell_type": "markdown",
   "metadata": {},
   "source": [
    "The science behind this algorithm is a bit long to explain, but for the curious ones, the explanation is on the official textbook (Numerical Analysis, 2nd Edition, Timothy Sauer). Now let's try it!"
   ]
  },
  {
   "cell_type": "code",
   "execution_count": 68,
   "metadata": {
    "collapsed": false
   },
   "outputs": [
    {
     "name": "stdout",
     "output_type": "stream",
     "text": [
      "[ 1.35271985  0.34037821  0.08049509]\n",
      "[ 1.40516288  0.69659549 -0.2545157 ]\n",
      "0.49180611623\n"
     ]
    }
   ],
   "source": [
    "A3 = generate_spd_matrix(3)\n",
    "b3 = np.ones(3)\n",
    "x30 = np.zeros(3)\n",
    "\n",
    "X = conjugate_gradient(A3, b3, x30)\n",
    "sol = np.linalg.solve(A3, b3)\n",
    "print (X[-1])\n",
    "print (sol)\n",
    "print (np.linalg.norm(X[-1]- sol)) # difference bewteen conjugate_gradient's solution and Numpy's solver's solution"
   ]
  },
  {
   "cell_type": "code",
   "execution_count": 69,
   "metadata": {
    "collapsed": false
   },
   "outputs": [
    {
     "name": "stdout",
     "output_type": "stream",
     "text": [
      "[ 0.01190241  0.00927628  0.00957849  0.00957212  0.01082093  0.00876215\n",
      "  0.01163497  0.01028986  0.00980331  0.00963057  0.00976296  0.00975619\n",
      "  0.00805716  0.00978794  0.00911269  0.010443    0.01241443  0.01023687\n",
      "  0.00977655  0.00947738  0.01004634  0.01089766  0.00886436  0.0109383\n",
      "  0.01157286  0.00937456  0.01337872  0.00919891  0.00843774  0.00952983\n",
      "  0.00891668  0.00877704  0.01036801  0.00952659  0.01008131  0.01324203\n",
      "  0.0094448   0.01314565  0.00836897  0.01028022  0.01052006  0.01106342\n",
      "  0.00934089  0.01201073  0.01333601  0.01117572  0.00998451  0.00865133\n",
      "  0.01002496  0.01015551]\n",
      "[ 0.01190241  0.00927628  0.00957849  0.00957212  0.01082093  0.00876215\n",
      "  0.01163497  0.01028986  0.00980331  0.00963057  0.00976296  0.00975619\n",
      "  0.00805716  0.00978794  0.00911269  0.010443    0.01241443  0.01023687\n",
      "  0.00977655  0.00947738  0.01004634  0.01089766  0.00886436  0.0109383\n",
      "  0.01157286  0.00937456  0.01337872  0.00919891  0.00843774  0.00952983\n",
      "  0.00891668  0.00877704  0.01036801  0.00952659  0.01008131  0.01324203\n",
      "  0.0094448   0.01314565  0.00836897  0.01028022  0.01052006  0.01106342\n",
      "  0.00934089  0.01201073  0.01333601  0.01117572  0.00998451  0.00865133\n",
      "  0.01002496  0.01015551]\n",
      "3.59719916238e-17\n"
     ]
    }
   ],
   "source": [
    "A50 = generate_spd_matrix(50)\n",
    "b50 = np.ones(50)\n",
    "x500 = np.zeros(50)\n",
    "\n",
    "X = conjugate_gradient(A50, b50, x500)\n",
    "sol = np.linalg.solve(A50, b50)\n",
    "print (X[-1])\n",
    "print (sol)\n",
    "print (np.linalg.norm(X[-1]-sol)) # difference bewteen conjugate_gradient's solution and Numpy's solver's solution"
   ]
  },
  {
   "cell_type": "code",
   "execution_count": 70,
   "metadata": {
    "collapsed": false
   },
   "outputs": [
    {
     "name": "stdout",
     "output_type": "stream",
     "text": [
      "[ 0.00538009  0.00574306  0.00549899  0.00545083  0.00508037  0.00510893\n",
      "  0.00513874  0.00512237  0.00522686  0.00606851  0.005029    0.00510274\n",
      "  0.00538952  0.00511507  0.00539495  0.00509579  0.00546477  0.0049069\n",
      "  0.00521481  0.00520166  0.00506267  0.00554944  0.0051413   0.0054336\n",
      "  0.00461031  0.00549307  0.00551022  0.00519428  0.00563402  0.00496691\n",
      "  0.00537251  0.00599037  0.00523061  0.00604818  0.00517442  0.00479914\n",
      "  0.00507978  0.00519203  0.00480891  0.0056378   0.00537282  0.00566637\n",
      "  0.00527499  0.00500782  0.00584485  0.0053589   0.00470743  0.00611903\n",
      "  0.00509751  0.00518512  0.00462353  0.00567439  0.00499571  0.00521962\n",
      "  0.00620506  0.00502386  0.00508448  0.00484302  0.00499571  0.00580738\n",
      "  0.00480171  0.00545177  0.00618141  0.00498551  0.00604026  0.00541738\n",
      "  0.00430637  0.00471201  0.00597907  0.0043611   0.00539174  0.00512181\n",
      "  0.0051966   0.00491533  0.00498672  0.00519792  0.00491472  0.00475654\n",
      "  0.00596284  0.00489521  0.00593949  0.00500833  0.00226781  0.00196834\n",
      "  0.00218617  0.00256118  0.00191838  0.00221189  0.00183983  0.00210372\n",
      "  0.00235908  0.00225439  0.00196986  0.00196507  0.00248111  0.00210783\n",
      "  0.00201645  0.00248033  0.00268692  0.00206093]\n",
      "[ 0.00538009  0.00574306  0.00549899  0.00545083  0.00508037  0.00510893\n",
      "  0.00513874  0.00512237  0.00522686  0.00606851  0.005029    0.00510274\n",
      "  0.00538952  0.00511507  0.00539495  0.00509579  0.00546477  0.0049069\n",
      "  0.00521481  0.00520166  0.00506267  0.00554944  0.0051413   0.0054336\n",
      "  0.00461031  0.00549307  0.00551022  0.00519428  0.00563402  0.00496691\n",
      "  0.00537251  0.00599037  0.00523061  0.00604818  0.00517442  0.00479914\n",
      "  0.00507978  0.00519203  0.00480891  0.0056378   0.00537282  0.00566637\n",
      "  0.00527499  0.00500782  0.00584485  0.0053589   0.00470743  0.00611903\n",
      "  0.00509751  0.00518512  0.00462353  0.00567439  0.00499571  0.00521962\n",
      "  0.00620506  0.00502386  0.00508448  0.00484302  0.00499571  0.00580738\n",
      "  0.00480171  0.00545177  0.00618141  0.00498551  0.00604026  0.00541738\n",
      "  0.00430637  0.00471201  0.00597907  0.0043611   0.00539174  0.00512181\n",
      "  0.0051966   0.00491533  0.00498672  0.00519792  0.00491472  0.00475654\n",
      "  0.00596284  0.00489521  0.00593949  0.00500833  0.00226781  0.00196834\n",
      "  0.00218617  0.00256118  0.00191838  0.00221189  0.00183983  0.00210372\n",
      "  0.00235908  0.00225439  0.00196986  0.00196507  0.00248111  0.00210783\n",
      "  0.00201645  0.00248033  0.00268692  0.00206093]\n",
      "3.02933149358e-17\n"
     ]
    }
   ],
   "source": [
    "A100 = generate_spd_matrix(100)\n",
    "b100 = np.ones(100)\n",
    "x1000 = np.zeros(100)\n",
    "\n",
    "X = conjugate_gradient(A100, b100, x1000)\n",
    "sol = np.linalg.solve(A100, b100)\n",
    "print (X[-1])\n",
    "print (sol)\n",
    "print (np.linalg.norm(X[-1] - sol)) # difference bewteen conjugate_gradient's solution and Numpy's solver's solution"
   ]
  },
  {
   "cell_type": "markdown",
   "metadata": {},
   "source": [
    "We can see that for small matrices the error for `gradient_descent` is somewhat smaller than the error for `conjugate_gradient`, but for big matrices this method has an extremely small error, practically zero. Isn't that amazing?!\n",
    "\n",
    "Here are some questions for the student to think about:\n",
    "* In which cases can the Conjugate Gradient Method converge in less than $n$ iterations?\n",
    "* What will happen if you use the Gradient Descent or Conjugate Gradient Method with non-symmetric, non-positive-definite matrices?"
   ]
  },
  {
   "cell_type": "markdown",
   "metadata": {},
   "source": [
    "<div id='CGMp' />\n",
    "## Conjugate Gradient Method with Preconditioning"
   ]
  },
  {
   "cell_type": "markdown",
   "metadata": {},
   "source": [
    "We've seen that the Conjugate Gradient Method works very well, but can we make it better? \n",
    "\n",
    "Very often, the convergence rate of iterative methods depends on the condition number of matrix $A$. By preconditioning, we'll reduce the condition number of the problem. The preconditioned version of the problem $A\\,x = b$ is: $$M^{-1}\\,A\\,x = M^{-1}\\,b$$ The matrix $M$ must be as close to $A$ as possible and easy to invert. One simple choice is the Jacobi Preconditioner $M = D$, since it shares its diagonal with $A$ and, as a diagonal matrix, is easy to invert. By applying this modification, we'll find that the method converges even faster."
   ]
  },
  {
   "cell_type": "code",
   "execution_count": 71,
   "metadata": {
    "collapsed": false
   },
   "outputs": [],
   "source": [
    "def diag_dot(D, v):\n",
    "    n = len(D)\n",
    "    sol = np.zeros(n)\n",
    "    for i in range(n):\n",
    "        sol[i] = D[i] * v[i]\n",
    "    return sol\n",
    "\n",
    "def conjugate_gradient_J(A, b, x0):\n",
    "    M = np.diag(A)\n",
    "    M_p = M**-1\n",
    "    \n",
    "    n = A.shape[0]\n",
    "    X = np.empty((n, n))\n",
    "    Z = np.empty((n, n))\n",
    "    R = np.empty((n, n))\n",
    "    X[0] = x0\n",
    "    R[0] = b - np.dot(A, x0)\n",
    "    Z[0] = diag_dot(M_p, R[0])\n",
    "    d = diag_dot(M_p, R[0])\n",
    "\n",
    "    for k in range(1, n):\n",
    "        if (all( v == 0 for v in R[k-1]) and pr): # The algorithm converged\n",
    "            X[k:] = X[k-1]\n",
    "            return X\n",
    "            break\n",
    "        alpha = np.dot(np.transpose(R[k-1]), Z[k-1]) / np.dot(np.transpose(d), np.dot(A, d))\n",
    "        X[k] = X[k-1] + alpha*d\n",
    "        R[k] = R[k-1] - alpha*np.dot(A, d)\n",
    "        Z[k] = diag_dot(M_p, R[k])\n",
    "        beta = np.dot(np.transpose(R[k]), Z[k])/np.dot(np.transpose(R[k-1]), Z[k-1])\n",
    "        d = Z[k] + beta*d\n",
    "\n",
    "    return X"
   ]
  },
  {
   "cell_type": "markdown",
   "metadata": {},
   "source": [
    "Now let's try it out:"
   ]
  },
  {
   "cell_type": "code",
   "execution_count": 72,
   "metadata": {
    "collapsed": false
   },
   "outputs": [
    {
     "name": "stdout",
     "output_type": "stream",
     "text": [
      "3.39353548031e-17\n",
      "3.27665915265e-17\n"
     ]
    }
   ],
   "source": [
    "Aj100 = generate_spd_matrix(100)\n",
    "bj100 = np.ones(100)\n",
    "xj1000 = np.zeros(100)\n",
    "\n",
    "X = conjugate_gradient_J(Aj100, bj100, xj1000)\n",
    "X2 = conjugate_gradient(Aj100, bj100, xj1000)\n",
    "sol = np.linalg.solve(Aj100, bj100)\n",
    "print (np.linalg.norm(X[-1]- sol)) # difference bewteen gradient_descent's solution and Numpy's solver's solution\n",
    "print (np.linalg.norm(X2[-1]- sol))"
   ]
  },
  {
   "cell_type": "markdown",
   "metadata": {},
   "source": [
    "The absolute errors for both are very much alike and practically zero, but the difference is the _speed_ with which the error decreases, as we'll see in the Exercises section of this notebook.\n",
    "\n",
    "Can you think of other preconditioners and try them out?"
   ]
  },
  {
   "cell_type": "markdown",
   "metadata": {},
   "source": [
    "<div id='LP' />\n",
    "## Let's Play: Practical Exercises and Profiling"
   ]
  },
  {
   "cell_type": "markdown",
   "metadata": {},
   "source": [
    "First of all, define a function to calculate the progress of the relative error for a given method, that is, input the array of approximate solutions `X` and the real solution provided by Numpy's solver `r_sol` and return an array with the relative error for each step."
   ]
  },
  {
   "cell_type": "code",
   "execution_count": 73,
   "metadata": {
    "collapsed": false
   },
   "outputs": [],
   "source": [
    "def relative_error(X, r_sol):\n",
    "    n_steps = X.shape[0]\n",
    "    n_r_sol = np.linalg.norm(r_sol)\n",
    "    E = np.zeros(n_steps)\n",
    "    for i in range(n_steps):\n",
    "        E[i] = np.linalg.norm(X[i] - r_sol) / n_r_sol\n",
    "    return E"
   ]
  },
  {
   "cell_type": "markdown",
   "metadata": {},
   "source": [
    "Try the three methods with a small non-symmetric, non-positive-definite matrix. Plot the relative error for all three methods."
   ]
  },
  {
   "cell_type": "code",
   "execution_count": 74,
   "metadata": {
    "collapsed": true
   },
   "outputs": [],
   "source": [
    "n = 10\n",
    "B = 10 * np.random.random((n,n))\n",
    "b = 10 * np.random.random(n)\n",
    "x0 = np.zeros(n)"
   ]
  },
  {
   "cell_type": "code",
   "execution_count": 75,
   "metadata": {
    "collapsed": false
   },
   "outputs": [],
   "source": [
    "X1 = gradient_descent(B, b, x0, n)\n",
    "X2 = conjugate_gradient(B, b, x0)\n",
    "X3 = conjugate_gradient_J(B, b, x0)\n",
    "r_sol = np.linalg.solve(B, b)\n",
    "\n",
    "E1 = relative_error(X1, r_sol)\n",
    "E2 = relative_error(X2, r_sol)\n",
    "E3 = relative_error(X3, r_sol)"
   ]
  },
  {
   "cell_type": "code",
   "execution_count": 76,
   "metadata": {
    "collapsed": false
   },
   "outputs": [
    {
     "data": {
      "image/png": "[encoded data removed]",
      "text/plain": [
       "<matplotlib.figure.Figure at 0x111029b00>"
      ]
     },
     "metadata": {},
     "output_type": "display_data"
    }
   ],
   "source": [
    "iterations = np.linspace(1, n, n)\n",
    "plt.xlabel('Iteration')\n",
    "plt.ylabel('Relative Error')\n",
    "plt.title('Evolution of the Relative Error for each method')\n",
    "plt.semilogy(iterations, E1, 'go', markersize=8) # Green spots are for Gradient Descent\n",
    "plt.semilogy(iterations, E2, 'ro', markersize=8) # Red spots are for Conjugate Gradient\n",
    "plt.semilogy(iterations, E3, 'co', markersize=8) # Cyan spots are for Conjugate Gradient with Jacobi Preconditioner\n",
    "plt.show()"
   ]
  },
  {
   "cell_type": "markdown",
   "metadata": {},
   "source": [
    "As you can see, if the matrix doesn't meet the requirements for these methods, the results can be quite terrible.\n",
    "\n",
    "Let's try again, this time using an appropriate matrix."
   ]
  },
  {
   "cell_type": "code",
   "execution_count": 77,
   "metadata": {
    "collapsed": true
   },
   "outputs": [],
   "source": [
    "n = 100\n",
    "A = 10 * generate_spd_matrix(n)\n",
    "b = 10 * np.random.random(n)\n",
    "x0 = np.random.random(n)"
   ]
  },
  {
   "cell_type": "code",
   "execution_count": 78,
   "metadata": {
    "collapsed": true
   },
   "outputs": [],
   "source": [
    "X1 = gradient_descent(A, b, x0, n)\n",
    "X2 = conjugate_gradient(A, b, x0)\n",
    "X3 = conjugate_gradient_J(A, b, x0)\n",
    "r_sol = np.linalg.solve(A, b)\n",
    "\n",
    "E1 = relative_error(X1, r_sol)\n",
    "E2 = relative_error(X2, r_sol)\n",
    "E3 = relative_error(X3, r_sol)"
   ]
  },
  {
   "cell_type": "code",
   "execution_count": 79,
   "metadata": {
    "collapsed": false
   },
   "outputs": [
    {
     "data": {
      "image/png": "[encoded data removed]",
      "text/plain": [
       "<matplotlib.figure.Figure at 0x1113b6710>"
      ]
     },
     "metadata": {},
     "output_type": "display_data"
    }
   ],
   "source": [
    "iterations = np.linspace(1, n, n)\n",
    "plt.xlabel('Iteration')\n",
    "plt.ylabel('Relative Error')\n",
    "plt.title('Evolution of the Relative Error for each method')\n",
    "plt.semilogy(iterations, E1, 'go', markersize=4) # Green spots are for Gradient Descent\n",
    "plt.semilogy(iterations, E2, 'ro', markersize=4) # Red spots are for Conjugate Gradient\n",
    "plt.semilogy(iterations, E3, 'co', markersize=4) # Cyan spots are for Conjugate Gradient with Jacobi Preconditioner\n",
    "plt.grid(True)\n",
    "plt.xlim(0,10)\n",
    "plt.show()"
   ]
  },
  {
   "cell_type": "markdown",
   "metadata": {},
   "source": [
    "Amazing! We started with a huge relative error and reduced it to practically zero in just under 6 iterations (the algorithms all have 100 iterations but we're showing you the first 10). We can clearly see that the Conjugate Gradient Method with Preconditioning needs the least of the three, with the Gradient Descent needing the most.\n",
    "\n",
    "Let's try with an even bigger matrix!"
   ]
  },
  {
   "cell_type": "code",
   "execution_count": 80,
   "metadata": {
    "collapsed": true
   },
   "outputs": [],
   "source": [
    "n = 1000\n",
    "A = 10 * generate_spd_matrix(n)\n",
    "b = 10 * np.random.random(n)\n",
    "x0 = np.random.random(n)"
   ]
  },
  {
   "cell_type": "code",
   "execution_count": 81,
   "metadata": {
    "collapsed": true
   },
   "outputs": [],
   "source": [
    "X1 = gradient_descent(A, b, x0, n)\n",
    "X2 = conjugate_gradient(A, b, x0)\n",
    "X3 = conjugate_gradient_J(A, b, x0)\n",
    "r_sol = np.linalg.solve(A, b)\n",
    "\n",
    "E1 = relative_error(X1, r_sol)\n",
    "E2 = relative_error(X2, r_sol)\n",
    "E3 = relative_error(X3, r_sol)"
   ]
  },
  {
   "cell_type": "code",
   "execution_count": 82,
   "metadata": {
    "collapsed": false
   },
   "outputs": [
    {
     "data": {
      "image/png": "[encoded data removed]",
      "text/plain": [
       "<matplotlib.figure.Figure at 0x110a8b5f8>"
      ]
     },
     "metadata": {},
     "output_type": "display_data"
    }
   ],
   "source": [
    "iterations = np.linspace(1, n, n)\n",
    "plt.xlabel('Iteration')\n",
    "plt.ylabel('Relative Error')\n",
    "plt.title('Evolution of the Relative Error for each method')\n",
    "plt.semilogy(iterations, E1, 'go', markersize=4) # Green spots are for Gradient Descent\n",
    "plt.semilogy(iterations, E2, 'ro', markersize=4) # Red spots are for Conjugate Gradient\n",
    "plt.semilogy(iterations, E3, 'co', markersize=4) # Cyan spots are for Conjugate Gradient with Jacobi Preconditioner\n",
    "plt.grid(True)\n",
    "plt.xlim(0,10)\n",
    "plt.show()"
   ]
  },
  {
   "cell_type": "markdown",
   "metadata": {},
   "source": [
    "We can see that, reached a certain size for the matrix, the amount of iterations needed to reach a small error remains more or less the same. We encourage you to try other kinds of matrices to see how the algorithms behave, and experiment with the codes to your liking. Now let's move on to profiling.\n",
    "\n",
    "Of course, you win some, you lose some. Accelerating the convergence of the algorithm means you have to spend more of other resources. We'll use the functions `%timeit` and `%memit` to see how the algorithms behave."
   ]
  },
  {
   "cell_type": "code",
   "execution_count": 83,
   "metadata": {
    "collapsed": true
   },
   "outputs": [],
   "source": [
    "A = generate_spd_matrix(100)\n",
    "b = np.ones(100)\n",
    "x0 = np.random.random(100)"
   ]
  },
  {
   "cell_type": "code",
   "execution_count": 84,
   "metadata": {
    "collapsed": false
   },
   "outputs": [
    {
     "name": "stdout",
     "output_type": "stream",
     "text": [
      "1000 loops, best of 3: 1.87 ms per loop\n",
      "100 loops, best of 3: 2.71 ms per loop\n",
      "100 loops, best of 3: 7.28 ms per loop\n"
     ]
    }
   ],
   "source": [
    "%timeit gradient_descent(A, b, x0, 100)\n",
    "%timeit conjugate_gradient(A, b, x0)\n",
    "%timeit conjugate_gradient_J(A, b, x0)"
   ]
  },
  {
   "cell_type": "code",
   "execution_count": 85,
   "metadata": {
    "collapsed": false
   },
   "outputs": [
    {
     "name": "stdout",
     "output_type": "stream",
     "text": [
      "peak memory: 133.85 MiB, increment: 0.07 MiB\n",
      "peak memory: 133.85 MiB, increment: 0.00 MiB\n",
      "peak memory: 133.85 MiB, increment: 0.00 MiB\n"
     ]
    }
   ],
   "source": [
    "%memit gradient_descent(A, b, x0, 100)\n",
    "%memit conjugate_gradient(A, b, x0)\n",
    "%memit conjugate_gradient_J(A, b, x0)"
   ]
  },
  {
   "cell_type": "markdown",
   "metadata": {},
   "source": [
    "We see something interesting here: all three algorithms need the same amount of memory.\n",
    "\n",
    "What happened with the measure of time? Why is it so big for the algorithm that has the best convergence rate? Besides the end of the loop, we have one other criteria for stopping the algorithm: When the residue r reaches the _exact_ value of zero, we say that the algorithm converged, and stop. However it's very hard to get an error of zero for randomized initial guesses, so this almost never happens, and we can't take advantage of the convergence rate of the algorithms. \n",
    "\n",
    "There's a way we can fix this: instead of using this criteria, make the algorithm stop when a certain _tolerance_ is reached. That way, when the error gets small enough (which happens faster for the third method), we can stop and say that we got a good enough solution. We'll give the task of modifying the algorithms to let this happen."
   ]
  },
  {
   "cell_type": "markdown",
   "metadata": {},
   "source": [
    "You can try with different matrices, different initial conditions, different sizes, etcetera. Try some more plotting, profiling, and experimenting. Have fun!"
   ]
  },
  {
   "cell_type": "markdown",
   "metadata": {},
   "source": [
    "<div id='acknowledgements' />\n",
    "# Acknowledgements\n",
    "* _Material created by professor Claudio Torres_ (`ctorres@inf.utfsm.cl`) _and assistants: Laura Bermeo, Alvaro Salinas, Axel Simonsen and Martín Villanueva. DI UTFSM. April 2016._"
   ]
  },
  {
   "cell_type": "code",
   "execution_count": null,
   "metadata": {
    "collapsed": true
   },
   "outputs": [],
   "source": []
  }
 ],
 "metadata": {
  "anaconda-cloud": {},
  "kernelspec": {
   "display_name": "Python [default]",
   "language": "python",
   "name": "python3"
  },
  "language_info": {
   "codemirror_mode": {
    "name": "ipython",
    "version": 3
   },
   "file_extension": ".py",
   "mimetype": "text/x-python",
   "name": "python",
   "nbconvert_exporter": "python",
   "pygments_lexer": "ipython3",
   "version": "3.4.4"
  }
 },
 "nbformat": 4,
 "nbformat_minor": 0
}
