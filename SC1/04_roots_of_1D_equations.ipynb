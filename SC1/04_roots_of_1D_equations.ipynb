{
 "cells": [
  {
   "cell_type": "markdown",
   "metadata": {
    "nbpresent": {
     "id": "de7417b4-3b4b-44c6-b72c-242cf788c74d"
    }
   },
   "source": [
    "<center>\n",
    "    <h1> ILI285 - Computación Científica I  / INF285 - Computación Científica </h1>\n",
    "    <h2> Roots of 1D equations </h2>\n",
    "    <h2> [[S]cientific [C]omputing [T]eam](#acknowledgements)</h2>\n",
    "    <h2> Version: 1.1</h2>\n",
    "</center>"
   ]
  },
  {
   "cell_type": "markdown",
   "metadata": {
    "nbpresent": {
     "id": "0bf960ac-5485-453f-a7fa-b127626d0722"
    }
   },
   "source": [
    "## Table of Contents\n",
    "* [Introduction](#intro)\n",
    "* [Bisection Method](#bisection)\n",
    "* [Cobweb Plot](#cobweb)\n",
    "* [Fixed Point Iteration](#fpi)\n",
    "* [Newton Method](#nm)\n",
    "* [Acknowledgements](#acknowledgements)"
   ]
  },
  {
   "cell_type": "code",
   "execution_count": 3,
   "metadata": {
    "collapsed": true,
    "nbpresent": {
     "id": "933f781f-471c-4576-bc44-cacb85f3d74e"
    }
   },
   "outputs": [],
   "source": [
    "import numpy as np\n",
    "import matplotlib.pyplot as plt\n",
    "import sympy as sp\n",
    "%matplotlib inline"
   ]
  },
  {
   "cell_type": "markdown",
   "metadata": {
    "nbpresent": {
     "id": "b67d6f1e-9141-4fdb-a380-7143377bb257"
    }
   },
   "source": [
    "<div id='intro' />\n",
    "## Introduction\n",
    "\n",
    "Hello again! In this document we're going to learn how to find a 1D equation's solution using numerical methods. First, let's start with the definition of a root:\n",
    "\n",
    "The function $f(x)$ has a <b>root</b> in $x = r$ if $f(r) = 0$. An example: Let's say we want to solve the equation $x + \\log(x) = 3$. We can rearrange the equation: $x + \\log(x) - 3 = 0$. That way, to find its solution we can find the root of $f(x) = x + \\log(x) - 3$. Now let's study some numerical methods to solve these kinds of problems. "
   ]
  },
  {
   "cell_type": "markdown",
   "metadata": {
    "nbpresent": {
     "id": "6ad27f67-ce50-4034-8ad6-87fc8e891710"
    }
   },
   "source": [
    "Defining a function $f(x)$"
   ]
  },
  {
   "cell_type": "code",
   "execution_count": 4,
   "metadata": {
    "collapsed": true,
    "nbpresent": {
     "id": "303a1805-24d2-40c6-85f9-d0d40f2092e1"
    }
   },
   "outputs": [],
   "source": [
    "f= lambda x: (x-20)*(x-19)*(x-18)*(x-17)*(x-16)*(x-15)*(x-14)*(x-13)*(x-12)*(x-10)*(x-9)*(x-8)*(x-7)*(x-6)*(x-5)*(x-4)*(x-3)*(x-2)*(x-1)"
   ]
  },
  {
   "cell_type": "markdown",
   "metadata": {
    "nbpresent": {
     "id": "1fbf0be0-90c4-413c-983f-e4d6ea6f76bc"
    }
   },
   "source": [
    "Finding $r$ using sympy"
   ]
  },
  {
   "cell_type": "code",
   "execution_count": 5,
   "metadata": {
    "collapsed": false,
    "nbpresent": {
     "id": "e91bbbf7-6c90-4f31-ae8c-55555844daa8"
    }
   },
   "outputs": [
    {
     "name": "stdout",
     "output_type": "stream",
     "text": [
      "3.00000000000000\n",
      "[1, 2, 3, 4, 5, 6, 7, 8, 9, 10, 12, 13, 14, 15, 16, 17, 18, 19, 20]\n"
     ]
    }
   ],
   "source": [
    "x = sp.Symbol('x')\n",
    "r_all=sp.solve(sp.Eq(f(x), 0), x)\n",
    "r=r_all[2].evalf()\n",
    "print(r)\n",
    "print(r_all)"
   ]
  },
  {
   "cell_type": "code",
   "execution_count": 6,
   "metadata": {
    "collapsed": false
   },
   "outputs": [
    {
     "data": {
      "text/plain": [
       "(x - 20)*(x - 19)*(x - 18)*(x - 17)*(x - 16)*(x - 15)*(x - 14)*(x - 13)*(x - 12)*(x - 10)*(x - 9)*(x - 8)*(x - 7)*(x - 6)*(x - 5)*(x - 4)*(x - 3)*(x - 2)*(x - 1)"
      ]
     },
     "execution_count": 6,
     "metadata": {},
     "output_type": "execute_result"
    }
   ],
   "source": []
  },
  {
   "cell_type": "code",
   "execution_count": 5,
   "metadata": {
    "collapsed": false,
    "nbpresent": {
     "id": "1e499efa-b348-449b-95da-6ae6f7d8bc13"
    },
    "scrolled": false
   },
   "outputs": [
    {
     "data": {
      "image/png": "[encoded data removed]",
      "text/plain": [
       "<matplotlib.figure.Figure at 0x10e03b978>"
      ]
     },
     "metadata": {},
     "output_type": "display_data"
    }
   ],
   "source": [
    "x = np.linspace(-1,1,1000)\n",
    "plt.figure(figsize=(8,8))\n",
    "plt.plot(x,f(x),'b-')\n",
    "plt.grid()\n",
    "plt.ylabel('$f(x)$',fontsize=16)\n",
    "plt.xlabel('$x$',fontsize=16)\n",
    "plt.title('What is r such that $f(r)=0$? $r='+str(r)+'$',fontsize=16)\n",
    "plt.plot(r,0,'k.',markersize=10)\n",
    "plt.show()"
   ]
  },
  {
   "cell_type": "markdown",
   "metadata": {
    "nbpresent": {
     "id": "0205cfe4-30cb-4064-a6bb-d6bb7ba0c4e4"
    }
   },
   "source": [
    "<div id='bisection' />\n",
    "## Bisection Method"
   ]
  },
  {
   "cell_type": "markdown",
   "metadata": {
    "nbpresent": {
     "id": "876cd550-d494-49e9-8009-7c7ff260fadf"
    }
   },
   "source": [
    "The bisection method finds the root of a function $f$, where $f$ is a **continuous** function.\n",
    "If we want to know if this has a root, we have to check if there is an interval $[a,b]$ for which \n",
    "$f(a)\\cdot f(b) < 0$. When these 2 conditions are satisfied, it means that there is a value $r$, between $a$ and $b$, for which $f(r) = 0$. To summarize how this method works, start with the aforementioned interval (checking that there's a root in it), and split it into two smaller intervals $[a,c]$ and $[c,b]$. Then, check which of the two intervals contains a root. Keep splitting each \"eligible\" interval until the algorithm converges or the tolerance is surpassed."
   ]
  },
  {
   "cell_type": "code",
   "execution_count": 7,
   "metadata": {
    "collapsed": false,
    "nbpresent": {
     "id": "1261a3bc-1a85-41f6-834e-5882848b6265"
    }
   },
   "outputs": [],
   "source": [
    "def bisect(f, a, b, tol=10e-8):\n",
    "    fa = f(a)\n",
    "    fb = f(b)\n",
    "    i = 0\n",
    "    \n",
    "    if np.sign(f(a)*f(b)) >= 0:\n",
    "        print('f(a)f(b)<0 not satisfied!')\n",
    "        return None\n",
    "    \n",
    "    print(' i |     a     |     c     |     b     |     fa    |     fc     |     fb     |   b-a')\n",
    "    print('----------------------------------------------------------------------------------------')\n",
    "    \n",
    "    while(b-a)/2 > tol:\n",
    "        c = (a+b)/2.\n",
    "        fc = f(c)\n",
    "        #Print some info\n",
    "        print('%2d | %.7f | %.7f | %.7f | %.7f | %.7f | %.7f | %.7f' %\n",
    "              (i+1, a, c, b, fa, fc, fb, b-a))\n",
    "        \n",
    "        if fc == 0:\n",
    "            print('f(c)==0')\n",
    "            break\n",
    "        elif np.sign(fa*fc) < 0:\n",
    "            b = c\n",
    "            fb = fc\n",
    "        else:\n",
    "            a = c\n",
    "            fa = fc\n",
    "        i += 1\n",
    "        \n",
    "    xc = (a+b)/2.\n",
    "    return xc"
   ]
  },
  {
   "cell_type": "code",
   "execution_count": 8,
   "metadata": {
    "collapsed": false,
    "nbpresent": {
     "id": "95c67a15-aecf-40cb-b9bc-b1145767fb97"
    }
   },
   "outputs": [
    {
     "name": "stdout",
     "output_type": "stream",
     "text": [
      " i |     a     |     c     |     b     |     fa    |     fc     |     fb     |   b-a\n",
      "----------------------------------------------------------------------------------------\n",
      " 1 | 0.0000000 | 0.5000000 | 1.0000000 | -0.2962963 | -0.0046296 | 0.0370370 | 1.0000000\n",
      " 2 | 0.5000000 | 0.7500000 | 1.0000000 | -0.0046296 | 0.0005787 | 0.0370370 | 0.5000000\n",
      " 3 | 0.5000000 | 0.6250000 | 0.7500000 | -0.0046296 | -0.0000723 | 0.0005787 | 0.2500000\n",
      " 4 | 0.6250000 | 0.6875000 | 0.7500000 | -0.0000723 | 0.0000090 | 0.0005787 | 0.1250000\n",
      " 5 | 0.6250000 | 0.6562500 | 0.6875000 | -0.0000723 | -0.0000011 | 0.0000090 | 0.0625000\n",
      " 6 | 0.6562500 | 0.6718750 | 0.6875000 | -0.0000011 | 0.0000001 | 0.0000090 | 0.0312500\n",
      " 7 | 0.6562500 | 0.6640625 | 0.6718750 | -0.0000011 | -0.0000000 | 0.0000001 | 0.0156250\n",
      " 8 | 0.6640625 | 0.6679688 | 0.6718750 | -0.0000000 | 0.0000000 | 0.0000001 | 0.0078125\n",
      " 9 | 0.6640625 | 0.6660156 | 0.6679688 | -0.0000000 | -0.0000000 | 0.0000000 | 0.0039062\n",
      "10 | 0.6660156 | 0.6669922 | 0.6679688 | -0.0000000 | 0.0000000 | 0.0000000 | 0.0019531\n",
      "11 | 0.6660156 | 0.6665039 | 0.6669922 | -0.0000000 | -0.0000000 | 0.0000000 | 0.0009766\n",
      "12 | 0.6665039 | 0.6667480 | 0.6669922 | -0.0000000 | 0.0000000 | 0.0000000 | 0.0004883\n",
      "13 | 0.6665039 | 0.6666260 | 0.6667480 | -0.0000000 | -0.0000000 | 0.0000000 | 0.0002441\n",
      "14 | 0.6666260 | 0.6666870 | 0.6667480 | -0.0000000 | 0.0000000 | 0.0000000 | 0.0001221\n",
      "15 | 0.6666260 | 0.6666565 | 0.6666870 | -0.0000000 | -0.0000000 | 0.0000000 | 0.0000610\n",
      "16 | 0.6666565 | 0.6666718 | 0.6666870 | -0.0000000 | 0.0000000 | 0.0000000 | 0.0000305\n",
      "17 | 0.6666565 | 0.6666641 | 0.6666718 | -0.0000000 | 0.0000000 | 0.0000000 | 0.0000153\n",
      "f(c)==0\n"
     ]
    },
    {
     "data": {
      "text/plain": [
       "0.6666641235351562"
      ]
     },
     "execution_count": 8,
     "metadata": {},
     "output_type": "execute_result"
    }
   ],
   "source": [
    "#f = lambda x: np.cos(x)\n",
    "f = lambda x: x**3-2*x**2+(4/3)*x-(8/27)\n",
    "bisect(f, 0,1)"
   ]
  },
  {
   "cell_type": "markdown",
   "metadata": {
    "nbpresent": {
     "id": "8f1dcc0b-4e83-4eb0-9020-30ea3107c233"
    }
   },
   "source": [
    "It's very important to define a concept called **convergence rate**. \n",
    "This rate shows how fast the convergence of a method is at a specified point.\n",
    "\n",
    "The convergence rate for the bisection is always 0.5 because this method uses the half of the interval for each iteration."
   ]
  },
  {
   "cell_type": "markdown",
   "metadata": {
    "nbpresent": {
     "id": "922fabb4-427a-437f-a954-0f80955d4487"
    }
   },
   "source": [
    "<div id='cobweb' />\n",
    "## Cobweb Plot"
   ]
  },
  {
   "cell_type": "code",
   "execution_count": 17,
   "metadata": {
    "collapsed": false,
    "nbpresent": {
     "id": "8985be0d-1596-4e5b-aaed-88f1e947cb8e"
    }
   },
   "outputs": [],
   "source": [
    "def cobweb(x,g=None):\n",
    "    min_x = np.amin(x)\n",
    "    max_x = np.amax(x)\n",
    "    \n",
    "    plt.figure(figsize=(10,10))\n",
    "    ax = plt.axes()\n",
    "    plt.plot(np.array([min_x,max_x]),np.array([min_x,max_x]),'b-')\n",
    "    for i in np.arange(x.size-1):\n",
    "        delta_x = x[i+1]-x[i]\n",
    "        head_length =  np.abs(delta_x)*0.04\n",
    "        arrow_length = delta_x-np.sign(delta_x)*head_length\n",
    "        ax.arrow(x[i], x[i], 0, arrow_length, head_width=1.5*head_length, head_length=head_length, fc='k', ec='k')\n",
    "        ax.arrow(x[i], x[i+1], arrow_length, 0, head_width=1.5*head_length, head_length=head_length, fc='k', ec='k')\n",
    "    \n",
    "    if g!=None:\n",
    "        y = np.linspace(min_x,max_x,1000)\n",
    "        plt.plot(y,g(y),'r')\n",
    "    \n",
    "    plt.title('Cobweb diagram')\n",
    "    plt.grid(True)\n",
    "    plt.show()"
   ]
  },
  {
   "cell_type": "markdown",
   "metadata": {
    "nbpresent": {
     "id": "55bcc6fb-d884-4d44-b569-078ce0ad1459"
    }
   },
   "source": [
    "<div id='fpi' />\n",
    "## Fixed Point Iteration"
   ]
  },
  {
   "cell_type": "markdown",
   "metadata": {
    "nbpresent": {
     "id": "ef495f98-a04f-404f-8e91-460af809e7bd"
    }
   },
   "source": [
    "To learn about Fixed-Point Iteration we will first learn about the concept of Fixed Point.\n",
    "\n",
    "A Fixed Point of a function $g$ is a real number $r$, where $g(r) = r$\n",
    "\n",
    "The Fixed-Point Iteration is based in the Fixed Point concept and works like this to find the root of a function:\n",
    "\n",
    "\\begin{equation} x_{0} = initial\\_guess \\\\ x_{i+1} = g(x_{i})\\end{equation}\n",
    "\n",
    "To find an equation's solution using this method you'll have to move around some things to rearrange the equation in the form $x = g(x)$. That way, you'll be iterating over the funcion $g(x)$, but you will **not** find $g$'s root, but $f(x) = g(x) - x$ (or $f(x) = x - g(x)$)'s root. In our following example, we'll find the solution to $f(x) = x - \\cos(x)$ by iterating over the funcion $g(x) = \\cos(x)$.\n",
    "\n"
   ]
  },
  {
   "cell_type": "code",
   "execution_count": 9,
   "metadata": {
    "collapsed": false,
    "nbpresent": {
     "id": "1cd6c7c7-0b0d-4537-8361-c712ccec3478"
    }
   },
   "outputs": [],
   "source": [
    "def fpi(g, x0, k, flag_cobweb=False):\n",
    "    x = np.empty(k+1)\n",
    "    x[0] = x0\n",
    "    error_i = np.inf\n",
    "    \n",
    "    print(' i |     x(i)     |    x(i+1)    ||x(i+1)-x(i)| | e_i/e_{i-1}')\n",
    "    print('--------------------------------------------------------------')\n",
    "    \n",
    "    for i in range(k):\n",
    "        x[i+1] = g(x[i])\n",
    "        error_iminus1 = error_i\n",
    "        error_i = abs(x[i+1]-x[i])\n",
    "        print('%2d | %.10f | %.10f | %.10f | %.10f' %\n",
    "              (i,x[i],x[i+1],error_i,error_i/error_iminus1))\n",
    "    if flag_cobweb:\n",
    "        cobweb(x,g)\n",
    "    return x[-1]"
   ]
  },
  {
   "cell_type": "code",
   "execution_count": 18,
   "metadata": {
    "collapsed": false,
    "nbpresent": {
     "id": "a3a27d8e-4cec-407f-8aa4-5301d152d7a2"
    },
    "scrolled": false
   },
   "outputs": [
    {
     "name": "stdout",
     "output_type": "stream",
     "text": [
      " i |     x(i)     |    x(i+1)    ||x(i+1)-x(i)| | e_i/e_{i-1}\n",
      "--------------------------------------------------------------\n",
      " 0 | 1.5000000000 | 0.0707372017 | 1.4292627983 | 0.0000000000\n",
      " 1 | 0.0707372017 | 0.9974991672 | 0.9267619655 | 0.6484195675\n",
      " 2 | 0.9974991672 | 0.5424049923 | 0.4550941749 | 0.4910583211\n",
      " 3 | 0.5424049923 | 0.8564697089 | 0.3140647166 | 0.6901092872\n",
      " 4 | 0.8564697089 | 0.6551088018 | 0.2013609072 | 0.6411446320\n",
      " 5 | 0.6551088018 | 0.7929816458 | 0.1378728440 | 0.6847051196\n",
      " 6 | 0.7929816458 | 0.7017241683 | 0.0912574775 | 0.6618959533\n",
      " 7 | 0.7017241683 | 0.7637303113 | 0.0620061430 | 0.6794636966\n",
      " 8 | 0.7637303113 | 0.7222610821 | 0.0414692292 | 0.6687922703\n",
      " 9 | 0.7222610821 | 0.7503128857 | 0.0280518036 | 0.6764486378\n",
      "10 | 0.7503128857 | 0.7314755580 | 0.0188373277 | 0.6715193062\n",
      "11 | 0.7314755580 | 0.7441895866 | 0.0127140286 | 0.6749380175\n",
      "12 | 0.7441895866 | 0.7356370983 | 0.0085524883 | 0.6726812212\n",
      "13 | 0.7356370983 | 0.7414033729 | 0.0057662746 | 0.6742218604\n",
      "14 | 0.7414033729 | 0.7375215545 | 0.0038818184 | 0.6731934817\n",
      "15 | 0.7375215545 | 0.7401374748 | 0.0026159203 | 0.6738904375\n",
      "16 | 0.7401374748 | 0.7383758542 | 0.0017616206 | 0.6734228913\n",
      "17 | 0.7383758542 | 0.7395627262 | 0.0011868720 | 0.6737387084\n",
      "18 | 0.7395627262 | 0.7387633366 | 0.0007993896 | 0.6735263673\n",
      "19 | 0.7387633366 | 0.7393018610 | 0.0005385245 | 0.6736695826\n",
      "20 | 0.7393018610 | 0.7389391254 | 0.0003627356 | 0.6735731927\n",
      "21 | 0.7389391254 | 0.7391834780 | 0.0002443526 | 0.6736381591\n",
      "22 | 0.7391834780 | 0.7390188834 | 0.0001645945 | 0.6735944138\n",
      "23 | 0.7390188834 | 0.7391297582 | 0.0001108748 | 0.6736238888\n",
      "24 | 0.7391297582 | 0.7390550725 | 0.0000746857 | 0.6736040375\n",
      "25 | 0.7390550725 | 0.7391053821 | 0.0000503096 | 0.6736174112\n",
      "26 | 0.7391053821 | 0.7390714932 | 0.0000338890 | 0.6736084032\n",
      "27 | 0.7390714932 | 0.7390943213 | 0.0000228281 | 0.6736144714\n",
      "28 | 0.7390943213 | 0.7390789440 | 0.0000153772 | 0.6736103840\n",
      "29 | 0.7390789440 | 0.7390893023 | 0.0000103583 | 0.6736131374\n"
     ]
    },
    {
     "data": {
      "image/png": "[encoded data removed]",
      "text/plain": [
       "<matplotlib.figure.Figure at 0x110eb1630>"
      ]
     },
     "metadata": {},
     "output_type": "display_data"
    },
    {
     "data": {
      "text/plain": [
       "0.73908930232404213"
      ]
     },
     "execution_count": 18,
     "metadata": {},
     "output_type": "execute_result"
    }
   ],
   "source": [
    "g = lambda x: np.cos(x)\n",
    "fpi(g, 1.5, 30, True)"
   ]
  },
  {
   "cell_type": "markdown",
   "metadata": {
    "nbpresent": {
     "id": "f3e3319f-ad4b-4c0b-89e7-7bd915c819ac"
    }
   },
   "source": [
    "Let's quickly explain the Cobweb Diagram we have here. The <font color=\"blue\">blue</font> line is the function $x$ and the <font color=\"red\">red</font> is the function $g(x)$. The point in which they meet is $g$'s fixed point. In this particular example, we start at <font color=\"blue\">$y = x = 1.5$</font> (the top right corner) and then we \"jump\" **vertically** to <font color=\"red\">$y = \\cos(1.5) \\approx 0.07$</font>. After this, we jump **horizontally** to <font color=\"blue\">$x = \\cos(1.5) \\approx 0.07$</font>. Then, we jump again **vertically** to <font color=\"red\">$y = \\cos\\left(\\cos(1.5)\\right) \\approx 0.997$</font> and so on. See the pattern here? We're just iterating over $x = \\cos(x)$, getting closer to the center of the diagram where the fixed point resides, in $x \\approx 0.739$."
   ]
  },
  {
   "cell_type": "markdown",
   "metadata": {
    "nbpresent": {
     "id": "39bab94c-eca7-4f81-b21d-c47784e1820d"
    }
   },
   "source": [
    "It's very important to mention that the algorithm will converge only if the rate of convergence $S < 1$, where $S = \\left| g'(r) \\right|$. If you want to use this method, you'll have to construct $g(x)$ starting from $f(x)$ accordingly. In this example, $g(x) = \\cos(x) \\Rightarrow g'(x) = -\\sin(x)$ and $|-\\sin(0.739)| \\approx 0.67$."
   ]
  },
  {
   "cell_type": "markdown",
   "metadata": {
    "nbpresent": {
     "id": "206edc54-dc0d-4831-a4c1-de99c755ca83"
    }
   },
   "source": [
    "<div id='nm' />\n",
    "## Newton's Method\n",
    "\n",
    "For this method, we want to iteratively find some function $f(x)$'s root, that is, the number $r$ for which $f(r) = 0$. The algorithm is as follows:\n",
    "\n",
    "\\begin{equation} x_0 = initial\\_guess \\end{equation}\n",
    "\\begin{equation} x_{i+1} = x_i - \\cfrac{f(x_i)}{f'(x_i)} \\end{equation}\n",
    "\n",
    "which means that you won't be able to find $f$'s root if $f'(r) = 0$. In this case, you would have to use the modified version of this method, but for now let's focus on the unmodified version first. Newton's (unmodified) method is said to have quadratic convergence."
   ]
  },
  {
   "cell_type": "code",
   "execution_count": 28,
   "metadata": {
    "collapsed": true,
    "nbpresent": {
     "id": "9aa7ed8c-a5f0-4474-a1f9-3faed0af85ba"
    }
   },
   "outputs": [],
   "source": [
    "def newton_method(f, fp, x0, rel_error=1e-8, m=1):\n",
    "    #Initialization of hybrid error and absolute\n",
    "    hybrid_error = 100\n",
    "    error_i = np.inf\n",
    "    \n",
    "    print('i |     x(i)     |     x(i+1)   |      |x(i+1)-x(i)|     |  e_i/e_{i-1} | e_i/e_{i-1}^2')\n",
    "    print('----------------------------------------------------------------------------------------')\n",
    "    \n",
    "    #Iteration counter\n",
    "    i = 1\n",
    "    while (hybrid_error > rel_error and hybrid_error < 1e12 and i < 1e4):\n",
    "        #Newton's iteration\n",
    "        x1 = x0-m*f(x0)/fp(x0)\n",
    "        \n",
    "        #Checking if root was found\n",
    "        if f(x1) == 0.0:\n",
    "            hybrid_error = 0.0\n",
    "            break\n",
    "        \n",
    "        #Computation of hybrid error\n",
    "        hybrid_error = abs(x1-x0)/np.max([abs(x1),1e-12])\n",
    "        \n",
    "        #Computation of absolute error\n",
    "        error_iminus1 = error_i\n",
    "        error_i = abs(x1-x0)\n",
    "        \n",
    "        #Increasing counter\n",
    "        i += 1\n",
    "        \n",
    "        #Showing some info\n",
    "        print(\"%d | %.10f | %.10f | %.20f | %.10f | %.10f\" % \n",
    "              (i, x0, x1, error_i, error_i/error_iminus1, error_i/(error_iminus1**2)))\n",
    "        #Updating solution\n",
    "        x0 = x1\n",
    "    \n",
    "    #Checking if solution was obtained\n",
    "    if hybrid_error < rel_error: \n",
    "        return x1\n",
    "    elif i>=1e4:\n",
    "        print('Newton''s Method diverged. Too many iterations!!')\n",
    "        return None\n",
    "    else:\n",
    "        print('Newton''s Method diverged!')\n",
    "        return None"
   ]
  },
  {
   "cell_type": "code",
   "execution_count": 29,
   "metadata": {
    "collapsed": false,
    "nbpresent": {
     "id": "cd221273-2a77-491b-ba4c-7dce1842b806"
    }
   },
   "outputs": [
    {
     "name": "stdout",
     "output_type": "stream",
     "text": [
      "i |     x(i)     |     x(i+1)   |      |x(i+1)-x(i)|     |  e_i/e_{i-1} | e_i/e_{i-1}^2\n",
      "----------------------------------------------------------------------------------------\n",
      "2 | 3.1000000000 | 3.1416166546 | 0.04161665458563579278 | 0.0000000000 | 0.0000000000\n",
      "3 | 3.1416166546 | 3.1415926536 | 0.00002400099584720650 | 0.0005767161 | 0.0138578204\n",
      "4 | 3.1415926536 | 3.1415926536 | 0.00000000000000444089 | 0.0000000002 | 0.0000077092\n"
     ]
    },
    {
     "data": {
      "text/plain": [
       "3.1415926535897931"
      ]
     },
     "execution_count": 29,
     "metadata": {},
     "output_type": "execute_result"
    }
   ],
   "source": [
    "f = lambda x: np.sin(x)\n",
    "fp = lambda x: np.cos(x) # derivative of f\n",
    "newton_method(f, fp, 3.1)"
   ]
  },
  {
   "cell_type": "markdown",
   "metadata": {
    "collapsed": true
   },
   "source": [
    "# In class"
   ]
  },
  {
   "cell_type": "markdown",
   "metadata": {},
   "source": [
    "Adding another implementation of FPI including and extra column for analyzing quadratic convergence"
   ]
  },
  {
   "cell_type": "code",
   "execution_count": 30,
   "metadata": {
    "collapsed": true
   },
   "outputs": [],
   "source": [
    "def fpi2(g, x0, k, flag_cobweb=False):\n",
    "    x = np.empty(k+1)\n",
    "    x[0] = x0\n",
    "    error_i = np.inf\n",
    "    \n",
    "    print(' i |     x(i)     |    x(i+1)    ||x(i+1)-x(i)| | e_i/e_{i-1} | e_i/e_{i-1}^2')\n",
    "    print('-----------------------------------------------------------------------------')\n",
    "    \n",
    "    for i in range(k):\n",
    "        x[i+1] = g(x[i])\n",
    "        error_iminus1 = error_i\n",
    "        error_i = abs(x[i+1]-x[i])\n",
    "        print('%2d | %.10f | %.10f | %.10f | %.10f | %.10f' %\n",
    "              (i,x[i],x[i+1],error_i,error_i/error_iminus1,error_i/(error_iminus1**2)))\n",
    "    if flag_cobweb:\n",
    "        cobweb(x,g)\n",
    "    return x[-1]"
   ]
  },
  {
   "cell_type": "code",
   "execution_count": 31,
   "metadata": {
    "collapsed": false
   },
   "outputs": [
    {
     "name": "stdout",
     "output_type": "stream",
     "text": [
      " i |     x(i)     |    x(i+1)    ||x(i+1)-x(i)| | e_i/e_{i-1} | e_i/e_{i-1}^2\n",
      "-----------------------------------------------------------------------------\n",
      " 0 | 3.0000000000 | 2.0000000000 | 1.0000000000 | 0.0000000000 | 0.0000000000\n",
      " 1 | 2.0000000000 | 2.3333333333 | 0.3333333333 | 0.3333333333 | 0.3333333333\n",
      " 2 | 2.3333333333 | 2.2000000000 | 0.1333333333 | 0.4000000000 | 1.2000000000\n",
      " 3 | 2.2000000000 | 2.2500000000 | 0.0500000000 | 0.3750000000 | 2.8125000000\n",
      " 4 | 2.2500000000 | 2.2307692308 | 0.0192307692 | 0.3846153846 | 7.6923076923\n",
      " 5 | 2.2307692308 | 2.2380952381 | 0.0073260073 | 0.3809523810 | 19.8095238095\n",
      " 6 | 2.2380952381 | 2.2352941176 | 0.0028011204 | 0.3823529412 | 52.1911764706\n",
      " 7 | 2.2352941176 | 2.2363636364 | 0.0010695187 | 0.3818181818 | 136.3090909091\n",
      " 8 | 2.2363636364 | 2.2359550562 | 0.0004085802 | 0.3820224719 | 357.1910112361\n",
      " 9 | 2.2359550562 | 2.2361111111 | 0.0001560549 | 0.3819444444 | 934.8090277783\n",
      "10 | 2.2361111111 | 2.2360515021 | 0.0000596090 | 0.3819742489 | 2447.6909871360\n",
      "11 | 2.2360515021 | 2.2360742706 | 0.0000227684 | 0.3819628647 | 6407.8090186882\n",
      "12 | 2.2360742706 | 2.2360655738 | 0.0000086968 | 0.3819672131 | 16776.1909838078\n",
      "13 | 2.2360655738 | 2.2360688956 | 0.0000033219 | 0.3819655522 | 43920.3090159454\n",
      "14 | 2.2360688956 | 2.2360676268 | 0.0000012688 | 0.3819661867 | 114985.1909939849\n",
      "15 | 2.2360676268 | 2.2360681115 | 0.0000004847 | 0.3819659446 | 301034.8091724162\n",
      "16 | 2.2360681115 | 2.2360679263 | 0.0000001851 | 0.3819660373 | 788119.6910189588\n",
      "17 | 2.2360679263 | 2.2360679970 | 0.0000000707 | 0.3819660027 | 2063323.8107586224\n",
      "18 | 2.2360679970 | 2.2360679700 | 0.0000000270 | 0.3819660157 | 5401852.1696635569\n",
      "19 | 2.2360679700 | 2.2360679804 | 0.0000000103 | 0.3819660086 | 14142232.1567128412\n",
      "20 | 2.2360679804 | 2.2360679764 | 0.0000000039 | 0.3819660359 | 37024847.3725290969\n",
      "21 | 2.2360679764 | 2.2360679779 | 0.0000000015 | 0.3819660675 | 96932310.6102506965\n",
      "22 | 2.2360679779 | 2.2360679773 | 0.0000000006 | 0.3819661016 | 253772069.1051556766\n",
      "23 | 2.2360679773 | 2.2360679776 | 0.0000000002 | 0.3819658582 | 664383321.7087509632\n",
      "24 | 2.2360679776 | 2.2360679775 | 0.0000000001 | 0.3819649621 | 1739374734.2715756893\n",
      "25 | 2.2360679775 | 2.2360679775 | 0.0000000000 | 0.3819694090 | 4553807696.9368133545\n",
      "26 | 2.2360679775 | 2.2360679775 | 0.0000000000 | 0.3819754387 | 11922105476.1587524414\n",
      "27 | 2.2360679775 | 2.2360679775 | 0.0000000000 | 0.3819580521 | 31210286326.0398712158\n",
      "28 | 2.2360679775 | 2.2360679775 | 0.0000000000 | 0.3820064602 | 81721648859.1082153320\n",
      "29 | 2.2360679775 | 2.2360679775 | 0.0000000000 | 0.3819945287 | 213920718380.9831237793\n"
     ]
    },
    {
     "data": {
      "image/png": "[encoded data removed]",
      "text/plain": [
       "<matplotlib.figure.Figure at 0x1118317b8>"
      ]
     },
     "metadata": {},
     "output_type": "display_data"
    },
    {
     "data": {
      "text/plain": [
       "2.2360679774999781"
      ]
     },
     "execution_count": 31,
     "metadata": {},
     "output_type": "execute_result"
    }
   ],
   "source": [
    "g1 = lambda x: (4./5.)*x+1./x\n",
    "g2 = lambda x: x/2.+5./(2*x)\n",
    "g3 = lambda x: (x+5.)/(x+1)\n",
    "fpi2(g3, 3.0, 30, True)"
   ]
  },
  {
   "cell_type": "markdown",
   "metadata": {},
   "source": [
    "# Classwork\n",
    "Build a FPI such that given $x$ computes $\\displaystyle \\frac{1}{x}$. Write down your solution below or go and see the [solution](#sol1)"
   ]
  },
  {
   "cell_type": "code",
   "execution_count": 32,
   "metadata": {
    "collapsed": false
   },
   "outputs": [
    {
     "name": "stdout",
     "output_type": "stream",
     "text": [
      "Please try to think and solve before you see the solutio!!!\n"
     ]
    }
   ],
   "source": [
    "print('Please try to think and solve before you see the solutio!!!')"
   ]
  },
  {
   "cell_type": "markdown",
   "metadata": {},
   "source": [
    "## Playing with some roots"
   ]
  },
  {
   "cell_type": "code",
   "execution_count": null,
   "metadata": {
    "collapsed": false
   },
   "outputs": [],
   "source": [
    "f = lambda x: 8*x**4-12*x**3+6*x**2-x\n",
    "fp = lambda x: 32*x**3-36*x**2+12*x-1\n",
    "\n",
    "x = np.linspace(-1,1,1000)\n",
    "plt.figure(figsize=(5,5))\n",
    "plt.plot(x,f(x),'b-')\n",
    "plt.grid()\n",
    "plt.ylabel('$f(x)$',fontsize=16)\n",
    "plt.xlabel('$x$',fontsize=16)\n",
    "plt.show()"
   ]
  },
  {
   "cell_type": "code",
   "execution_count": null,
   "metadata": {
    "collapsed": false
   },
   "outputs": [],
   "source": [
    "newton_method(f, fp, 0.25, rel_error=1e-8, m=1)"
   ]
  },
  {
   "cell_type": "markdown",
   "metadata": {
    "collapsed": true
   },
   "source": [
    "<div id='acknowledgements' />\n",
    "# Acknowledgements\n",
    "* _Material created by professor Claudio Torres_ (`ctorres@inf.utfsm.cl`) _and assistants: Laura Bermeo, Alvaro Salinas, Axel Simonsen and Martín Villanueva. DI UTFSM. March 2016._"
   ]
  },
  {
   "cell_type": "markdown",
   "metadata": {
    "collapsed": true
   },
   "source": [
    "# Solutions"
   ]
  },
  {
   "cell_type": "markdown",
   "metadata": {},
   "source": [
    "<div id='acknowledgements' />\n",
    "Problem: Build a FPI such that given $x$ computes $\\displaystyle \\frac{1}{x}$"
   ]
  },
  {
   "cell_type": "code",
   "execution_count": 37,
   "metadata": {
    "collapsed": false
   },
   "outputs": [],
   "source": [
    "# Solution code:\n",
    "#a = 2\n",
    "#g = lambda x: 2*x-a*x**2\n",
    "#fpi2(g, 0.7, 6, flag_cobweb=True)"
   ]
  },
  {
   "cell_type": "code",
   "execution_count": null,
   "metadata": {
    "collapsed": true
   },
   "outputs": [],
   "source": []
  }
 ],
 "metadata": {
  "anaconda-cloud": {},
  "kernelspec": {
   "display_name": "Python 3",
   "language": "python",
   "name": "python3"
  },
  "language_info": {
   "codemirror_mode": {
    "name": "ipython",
    "version": 3
   },
   "file_extension": ".py",
   "mimetype": "text/x-python",
   "name": "python",
   "nbconvert_exporter": "python",
   "pygments_lexer": "ipython3",
   "version": "3.4.3"
  },
  "nbpresent": {
   "slides": {},
   "themes": {}
  }
 },
 "nbformat": 4,
 "nbformat_minor": 0
}
