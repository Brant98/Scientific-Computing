{
 "cells": [
  {
   "cell_type": "markdown",
   "metadata": {},
   "source": [
    "<center>\n",
    "    <h1> ILI286 - Computación Científica II  </h1>\n",
    "    <h2> EDP Hiperbólicas: Diferencias Finitas </h2>\n",
    "    <h2> [[S]cientific [C]omputing [T]eam](#acknowledgements)</h2>\n",
    "    <h2> Version: 1.1</h2>\n",
    "</center>"
   ]
  },
  {
   "cell_type": "markdown",
   "metadata": {},
   "source": [
    "# Tabla de Contenidos\n",
    "* [Ecuación de Onda 1D](#onda)\n",
    "* [Finite Differences con condición de borde de Dirichlet](#dirichlet)\n",
    "* [Acknowledgements](#acknowledgements)"
   ]
  },
  {
   "cell_type": "markdown",
   "metadata": {},
   "source": [
    "### Librerías necesarias"
   ]
  },
  {
   "cell_type": "code",
   "execution_count": 1,
   "metadata": {
    "collapsed": false
   },
   "outputs": [],
   "source": [
    "%matplotlib inline\n",
    "import numpy as np\n",
    "import scipy.linalg as spla\n",
    "import matplotlib.pyplot as plt\n",
    "from ipywidgets import widgets"
   ]
  },
  {
   "cell_type": "markdown",
   "metadata": {},
   "source": [
    "<div id='onda' />\n",
    "# Ecuación de Onda 1D #\n",
    "\n",
    "Consideremos la siguiente EDP hiperbólica, para $ x \\in [a,b] \\ \\ $ y $t \\in [0,T_{max}] \\ \\ $:\n",
    "\\begin{align*}\n",
    "u_{tt}(x,t) &= c^2\\, u_{xx}(x,t) \\\\\n",
    "u(x,0) &= f(x)\\\\\n",
    "u_t(x,0) &= g(x)\\\\\n",
    "u(a,t) &= l(t)\\\\\n",
    "u(b,t) &= r(t)\n",
    "\\end{align*}\n",
    "\n",
    "Utilizando diferencias finitas, la ecuación nos queda:\n",
    "\\begin{align*}\n",
    "u_{tt}(x,t) &= c^2\\, u_{xx}(x,t) \\\\\n",
    "\\dfrac{u_i^{t+1}-2u_i^t+u_i^{t-1}}{\\Delta t^2} &= c^2\\, \\dfrac{u_{i+1}^t-2u_i^t+u_{i-1}^t}{\\Delta x^2} \n",
    "\\end{align*}\n",
    "\n",
    "Nuestra incógnita sería $u_i^{t+1}$, la cual se puede calcular teniendo información de los dos tiempos anteriores. Por lo tanto, despejando llegamos a:\n",
    "\n",
    "$$u_i^{t+1} = \\dfrac{c^2 \\Delta t^2}{\\Delta x^2}\\left(u_{i+1}^t + u_{i-1}^t\\right) + 2\\left(1 - \\dfrac{c^2 \\Delta t^2}{\\Delta x^2}\\right)u_i^t - u_i^{t-1}$$\n",
    "\n",
    "Si bien esto se resuelve directamente a medida que avanzamos en el tiempo, en $t=1$ nos faltará el valor de $u_i^{-1}$, pero recordando que:\n",
    "$$u_t = \\dfrac{u_i^{t+1} - u_i^{t-1}}{2\\Delta t}$$\n",
    "se puede utilizar la condición incial para obtener:\n",
    "\\begin{align*}\n",
    "u_i^{t+1} &= \\dfrac{c^2 \\Delta t^2}{2 \\Delta x^2}\\left(u_{i+1}^t + u_{i-1}^t\\right) + \\left(1 - \\dfrac{c^2 \\Delta t^2}{\\Delta x^2}\\right)u_i^t + \\Delta t u_t \\\\\n",
    "u_i^1 &= \\dfrac{c^2 \\Delta t^2}{2 \\Delta x^2}\\left(u_{i+1}^0 + u_{i-1}^0\\right) + \\left(1 - \\dfrac{c^2 \\Delta t^2}{\\Delta x^2}\\right)u_i^0  + \\Delta t u_t(x_i,0)\n",
    "\\end{align*}"
   ]
  },
  {
   "cell_type": "markdown",
   "metadata": {},
   "source": [
    "<div id='dirichlet' />\n",
    "## Finite Differences con condición de borde de Dirichlet ##"
   ]
  },
  {
   "cell_type": "code",
   "execution_count": 2,
   "metadata": {
    "collapsed": false
   },
   "outputs": [],
   "source": [
    "def Dirichlet(x,f,g,l,r,c2,dx,dt,N,M):\n",
    "    \n",
    "    sigma2 = c2 * dt**2 / dx**2\n",
    "    \n",
    "    print('sigma**2= ',sigma2)\n",
    "        \n",
    "    # The approximation for all time-steps\n",
    "    w  = np.zeros((M+1,N))\n",
    "    \n",
    "    # Initial condition\n",
    "    w[0,:]=f\n",
    "        \n",
    "    # Building A\n",
    "    d=np.zeros(N-2)\n",
    "    d[0]=2-2*sigma2\n",
    "    d[1]=sigma2\n",
    "    A=spla.toeplitz(d)\n",
    "    \n",
    "    ## First step\n",
    "    tmp=np.zeros(N-2)\n",
    "    tmp[0]=w[0,0]\n",
    "    tmp[-1]=w[0,-1]\n",
    "    w[1,1:-1]=0.5*(np.dot(A,w[0,1:-1]))+dt*g[1:-1]+0.5*sigma2*tmp\n",
    "    \n",
    "    ## All the rest of the steps\n",
    "    for t in range(2,M+1):\n",
    "        tmp[0]=l(dt*t)\n",
    "        tmp[-1]=r(dt*t)\n",
    "        w[t,1:-1]=np.dot(A,w[t-1,1:-1])-w[t-2,1:-1]+sigma2*tmp\n",
    "        w[t,0]=l(dt*t)\n",
    "        w[t,-1]=r(dt*t)\n",
    "    return w"
   ]
  },
  {
   "cell_type": "code",
   "execution_count": 3,
   "metadata": {
    "collapsed": true
   },
   "outputs": [],
   "source": [
    "def l(t):\n",
    "    return 0*t\n",
    "\n",
    "def r(t):\n",
    "    return 0*t"
   ]
  },
  {
   "cell_type": "code",
   "execution_count": 4,
   "metadata": {
    "collapsed": true
   },
   "outputs": [],
   "source": [
    "def plot(us,i=0):\n",
    "    plt.plot(x,us[i])\n",
    "    plt.ylim(-0.11,0.11)\n",
    "    plt.title('Tiempo: '+str(i*dt))\n",
    "    plt.show()"
   ]
  },
  {
   "cell_type": "code",
   "execution_count": 5,
   "metadata": {
    "collapsed": false
   },
   "outputs": [],
   "source": [
    "N=100\n",
    "M=200\n",
    "TMAX = 40\n",
    "x = np.linspace(-20,20,N)\n",
    "t = np.linspace(0,TMAX,M)\n",
    "\n",
    "c = 2\n",
    "\n",
    "dx = x[1]-x[0]\n",
    "dt = t[1]-t[0]\n",
    "\n",
    "# RECALL: CFL condition:\n",
    "#  if c dt/dx<=1 => stability\n",
    "#  else (c dt/dx>1) instability. "
   ]
  },
  {
   "cell_type": "code",
   "execution_count": 6,
   "metadata": {
    "collapsed": false
   },
   "outputs": [],
   "source": [
    "## Numerical Initial Conditions, notice these are numerical arrays!\n",
    "# i.e. vectors not functions.\n",
    "# u(x,0)=f(x)\n",
    "f1 = 0.1*np.exp(-x**2)\n",
    "f2 = 0.1*np.sin(2*x*np.pi/8)\n",
    "\n",
    "# u_t(x,0)=f(x)\n",
    "# SOLITON\n",
    "g1 = (np.exp(-(x-0.2)**2) - np.exp(-(x+0.2)**2))/2\n",
    "# ONDA QUE SE DIVIDE\n",
    "g2 = np.zeros(N)"
   ]
  },
  {
   "cell_type": "code",
   "execution_count": 7,
   "metadata": {
    "collapsed": false
   },
   "outputs": [
    {
     "name": "stdout",
     "output_type": "stream",
     "text": [
      "sigma**2=  0.989975000631\n"
     ]
    }
   ],
   "source": [
    "us1 = Dirichlet(x,f1,g1,l,r,c**2,dx,dt,N,M)"
   ]
  },
  {
   "cell_type": "code",
   "execution_count": 8,
   "metadata": {
    "collapsed": false
   },
   "outputs": [
    {
     "data": {
      "image/png": "[encoded data removed]",
      "text/plain": [
       "<matplotlib.figure.Figure at 0x10a001828>"
      ]
     },
     "metadata": {},
     "output_type": "display_data"
    },
    {
     "data": {
      "text/plain": [
       "<function __main__.plot>"
      ]
     },
     "execution_count": 8,
     "metadata": {},
     "output_type": "execute_result"
    }
   ],
   "source": [
    "dp = 1\n",
    "widgets.interact(plot,us=widgets.fixed(us1),i=(0,M,dp))"
   ]
  },
  {
   "cell_type": "code",
   "execution_count": 9,
   "metadata": {
    "collapsed": false
   },
   "outputs": [
    {
     "name": "stdout",
     "output_type": "stream",
     "text": [
      "sigma**2=  0.989975000631\n"
     ]
    }
   ],
   "source": [
    "us2 = Dirichlet(x,f1,g2,l,r,c**2,dx,dt,N,M)"
   ]
  },
  {
   "cell_type": "code",
   "execution_count": 10,
   "metadata": {
    "collapsed": false
   },
   "outputs": [
    {
     "data": {
      "image/png": "[encoded data removed]",
      "text/plain": [
       "<matplotlib.figure.Figure at 0x10c524630>"
      ]
     },
     "metadata": {},
     "output_type": "display_data"
    },
    {
     "data": {
      "text/plain": [
       "<function __main__.plot>"
      ]
     },
     "execution_count": 10,
     "metadata": {},
     "output_type": "execute_result"
    }
   ],
   "source": [
    "dp = 1\n",
    "widgets.interact(plot,us=widgets.fixed(us2),i=(0,M,dp))"
   ]
  },
  {
   "cell_type": "code",
   "execution_count": 11,
   "metadata": {
    "collapsed": false
   },
   "outputs": [
    {
     "name": "stdout",
     "output_type": "stream",
     "text": [
      "sigma**2=  0.989975000631\n"
     ]
    }
   ],
   "source": [
    "us3 = Dirichlet(x,f2,g2,l,r,c**2,dx,dt,N,M)"
   ]
  },
  {
   "cell_type": "code",
   "execution_count": 12,
   "metadata": {
    "collapsed": false
   },
   "outputs": [
    {
     "data": {
      "image/png": "[encoded data removed]",
      "text/plain": [
       "<matplotlib.figure.Figure at 0x10d2f8668>"
      ]
     },
     "metadata": {},
     "output_type": "display_data"
    }
   ],
   "source": [
    "dp = 1\n",
    "widgets.interact(plot,us=widgets.fixed(us3),i=(0,M,dp))"
   ]
  },
  {
   "cell_type": "markdown",
   "metadata": {
    "collapsed": true
   },
   "source": [
    "<div id='acknowledgements' />\n",
    "# Acknowledgements\n",
    "* _Material creado por profesor Claudio Torres_ (`ctorres@inf.utfsm.cl`) _y ayudantes: Alvaro Salinas y Martín Villanueva. DI UTFSM. Noviembre 2016._"
   ]
  },
  {
   "cell_type": "code",
   "execution_count": null,
   "metadata": {
    "collapsed": true
   },
   "outputs": [],
   "source": []
  }
 ],
 "metadata": {
  "anaconda-cloud": {},
  "kernelspec": {
   "display_name": "Python [default]",
   "language": "python",
   "name": "python3"
  },
  "language_info": {
   "codemirror_mode": {
    "name": "ipython",
    "version": 3
   },
   "file_extension": ".py",
   "mimetype": "text/x-python",
   "name": "python",
   "nbconvert_exporter": "python",
   "pygments_lexer": "ipython3",
   "version": "3.4.4"
  },
  "widgets": {
   "state": {
    "0f8e113df6324c4d8580e470c69007c5": {
     "views": [
      {
       "cell_index": 12
      }
     ]
    },
    "69539d4935e44eafba7364022e7fdd37": {
     "views": [
      {
       "cell_index": 16
      }
     ]
    },
    "df20f6777d5648fd9c96c3806f1709ae": {
     "views": [
      {
       "cell_index": 14
      }
     ]
    }
   },
   "version": "1.2.0"
  }
 },
 "nbformat": 4,
 "nbformat_minor": 0
}
